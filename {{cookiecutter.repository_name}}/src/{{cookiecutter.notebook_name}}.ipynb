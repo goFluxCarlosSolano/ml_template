{
 "cells": [
  {
   "cell_type": "markdown",
   "id": "696599d9-c98d-4b4f-9f7f-4509c7060852",
   "metadata": {},
   "source": [
    "# Principal notebook"
   ]
  }
 ],
 "metadata": {
  "kernelspec": {
   "display_name": "Python 3 (ipykernel)",
   "language": "python",
   "name": "python3"
  },
  "language_info": {
   "codemirror_mode": {
    "name": "ipython",
    "version": 3
   },
   "file_extension": ".py",
   "mimetype": "text/x-python",
   "name": "python",
   "nbconvert_exporter": "python",
   "pygments_lexer": "ipython3",
   "version": "3.11.2"
  }
 },
 "nbformat": 4,
 "nbformat_minor": 5
}